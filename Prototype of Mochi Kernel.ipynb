{
 "cells": [
  {
   "cell_type": "markdown",
   "metadata": {},
   "source": [
    "# Prototype of mochi kernel"
   ]
  },
  {
   "cell_type": "markdown",
   "metadata": {},
   "source": [
    "[Mochi] is a functional language on top of Python 3.\n",
    "I was wondering how hard it woudl be to write an IPython [wrapper kernel](http://ipython.org/ipython-doc/dev/development/wrapperkernels.html). \n",
    "\n",
    "The basic wasn't tht hard, it requires a few patches to mochi, but works fine. You can find the wrapper kernel [here](http://ipython.org/ipython-doc/dev/development/wrapperkernels.html)\n",
    "\n",
    "You can find the wrapper kernel [here](https://github.com/Carreau/mochi-kernel)"
   ]
  },
  {
   "cell_type": "markdown",
   "metadata": {},
   "source": [
    "## Below is just the Project readme  converted as a notebook"
   ]
  },
  {
   "cell_type": "markdown",
   "metadata": {},
   "source": [
    "Mochi\n",
    "====\n",
    "Mochi is a dynamically typed programming language for functional programming and actor-style programming.\n",
    "\n",
    "Its interpreter is written in Python3. The interpreter translates a program written in Mochi to Python3's AST / bytecode.\n",
    "\n",
    "## Features\n",
    "- Python-like syntax\n",
    "- Tail recursion optimization (self tail recursion only), and no loop syntax\n",
    "- Re-assignment are not allowed in function definition.\n",
    "- Basic collection type is a persistent data structure. (using Pyrsistent)\n",
    "- Pattern matching / Data types, like algebraic data types\n",
    "- Pipeline operator\n",
    "- Syntax sugar of anonymous function definition\n",
    "- Actor, like the actor of Erlang（using Eventlet)\n",
    "- Macro, like the traditional macro of Lisp\n",
    "- Builtin functions includes functions exported by itertools module, recipes, functools module and operator module\n",
    "\n",
    "\n",
    "## Examples\n",
    "### Factorial"
   ]
  },
  {
   "cell_type": "code",
   "execution_count": 2,
   "metadata": {
    "collapsed": false
   },
   "outputs": [
    {
     "name": "stdout",
     "output_type": "stream",
     "text": [
      "<function factorial at 0x10deec378>\n"
     ]
    }
   ],
   "source": [
    "def factorial(n, m):\n",
    "    if n == 1:\n",
    "        m\n",
    "    else:\n",
    "        factorial(n - 1, n * m)"
   ]
  },
  {
   "cell_type": "code",
   "execution_count": 3,
   "metadata": {
    "collapsed": false
   },
   "outputs": [
    {
     "name": "stdout",
     "output_type": "stream",
     "text": [
      "93326215443944152681699238856266700490715968264381621468592963895217599993229915608941463976156518286253697920827223758251185210916864000000000000000000000000\n"
     ]
    }
   ],
   "source": [
    "factorial(100, 1)"
   ]
  },
  {
   "cell_type": "markdown",
   "metadata": {},
   "source": [
    "# Or"
   ]
  },
  {
   "cell_type": "code",
   "execution_count": 4,
   "metadata": {
    "collapsed": false
   },
   "outputs": [
    {
     "name": "stdout",
     "output_type": "stream",
     "text": [
      "<function factorial at 0x10deecea0>\n"
     ]
    }
   ],
   "source": [
    "def factorial:\n",
    "    n: factorial(n, 1)\n",
    "    0, acc: acc\n",
    "    n, acc: factorial(n - 1, acc * n)"
   ]
  },
  {
   "cell_type": "code",
   "execution_count": 5,
   "metadata": {
    "collapsed": false
   },
   "outputs": [
    {
     "name": "stdout",
     "output_type": "stream",
     "text": [
      "93326215443944152681699238856266700490715968264381621468592963895217599993229915608941463976156518286253697920827223758251185210916864000000000000000000000000\n"
     ]
    }
   ],
   "source": [
    "factorial(100)"
   ]
  },
  {
   "cell_type": "markdown",
   "metadata": {},
   "source": [
    "### FizzBuzz"
   ]
  },
  {
   "cell_type": "code",
   "execution_count": 6,
   "metadata": {
    "collapsed": false
   },
   "outputs": [
    {
     "name": "stdout",
     "output_type": "stream",
     "text": [
      "<function fizzbuzz at 0x10deec8c8>\n"
     ]
    }
   ],
   "source": [
    "def fizzbuzz(n):\n",
    "    match [n % 3, n % 5]:\n",
    "        [0, 0]: \"fizzbuzz\"\n",
    "        [0, _]: \"fizz\"\n",
    "        [_, 0]: \"buzz\"\n",
    "        _: n"
   ]
  },
  {
   "cell_type": "code",
   "execution_count": 8,
   "metadata": {
    "collapsed": false
   },
   "outputs": [
    {
     "name": "stdout",
     "output_type": "stream",
     "text": [
      "pvector([1, 2, 'fizz', 4, 'buzz', 'fizz', 7, 8, 'fizz', 'buzz', 11, 'fizz', 13, 14, 'fizzbuzz', 16, 17, 'fizz', 19, 'buzz', 'fizz', 22, 23, 'fizz', 'buzz', 26, 'fizz', 28, 29, 'fizzbuzz'])\n",
      "None\n"
     ]
    }
   ],
   "source": [
    "range(1, 31) |> map(fizzbuzz) |> pvector() |> print"
   ]
  },
  {
   "cell_type": "markdown",
   "metadata": {},
   "source": [
    "### Actor"
   ]
  },
  {
   "cell_type": "code",
   "execution_count": 9,
   "metadata": {
    "collapsed": false
   },
   "outputs": [
    {
     "name": "stdout",
     "output_type": "stream",
     "text": [
      "<function show at 0x10deecc80>\n",
      "<mochi.actor.Actor object at 0x10e018518>\n",
      "None\n",
      "None\n",
      "foo\n",
      "bar\n",
      "None\n"
     ]
    }
   ],
   "source": [
    "def show():\n",
    "    receive:\n",
    "        message:\n",
    "            print(message)\n",
    "            show()\n",
    "\n",
    "actor = spawn(show)\n",
    "\n",
    "send('foo', actor)\n",
    "actor ! 'bar' # send('bar', actor)\n",
    "sleep(1)"
   ]
  },
  {
   "cell_type": "code",
   "execution_count": 10,
   "metadata": {
    "collapsed": false
   },
   "outputs": [
    {
     "name": "stdout",
     "output_type": "stream",
     "text": [
      "1\n"
     ]
    }
   ],
   "source": [
    "1"
   ]
  },
  {
   "cell_type": "code",
   "execution_count": 11,
   "metadata": {
    "collapsed": false
   },
   "outputs": [
    {
     "name": "stdout",
     "output_type": "stream",
     "text": [
      "None\n",
      "foo\n",
      "None\n"
     ]
    }
   ],
   "source": [
    "'foo' !> spawn(show)\n",
    "\n",
    "sleep(1)"
   ]
  },
  {
   "cell_type": "code",
   "execution_count": 12,
   "metadata": {
    "collapsed": false
   },
   "outputs": [
    {
     "name": "stdout",
     "output_type": "stream",
     "text": [
      "()\n"
     ]
    }
   ],
   "source": [
    "['foo', 'bar'] !&> spawn(show)"
   ]
  },
  {
   "cell_type": "markdown",
   "metadata": {},
   "source": [
    "The meaning of the above is the same as the meaning of the following."
   ]
  },
  {
   "cell_type": "code",
   "execution_count": 13,
   "metadata": {
    "collapsed": false
   },
   "outputs": [
    {
     "name": "stdout",
     "output_type": "stream",
     "text": [
      "foo\n",
      "bar\n",
      "None\n",
      "None\n",
      "foo\n",
      "bar\n",
      "None\n"
     ]
    }
   ],
   "source": [
    "spawn(show) ! 'foo'\n",
    "spawn(show) ! 'bar'\n",
    "sleep(1)"
   ]
  },
  {
   "cell_type": "markdown",
   "metadata": {},
   "source": [
    "### Flask"
   ]
  },
  {
   "cell_type": "code",
   "execution_count": 14,
   "metadata": {
    "collapsed": false
   },
   "outputs": [
    {
     "name": "stdout",
     "output_type": "stream",
     "text": []
    },
    {
     "name": "stderr",
     "output_type": "stream",
     "text": [
      "  File \"/Users/bussonniermatthias/dev/mochi/mochi/mochi.py\", line 3026, in eval_tokens\n",
      "    exec(code, global_env)\n",
      "  File \"<string>\", line 0, in <module>\n",
      "*** ERROR: No module named 'flask'\n"
     ]
    }
   ],
   "source": [
    "from flask import Flask\n",
    "\n",
    "app = Flask('demo')\n",
    "\n",
    "@app.route('/')\n",
    "def hello():\n",
    "    'Hello World!'\n",
    "\n",
    "app.run()"
   ]
  },
  {
   "cell_type": "markdown",
   "metadata": {},
   "source": [
    "### aif"
   ]
  },
  {
   "cell_type": "code",
   "execution_count": 15,
   "metadata": {
    "collapsed": false
   },
   "outputs": [
    {
     "name": "stdout",
     "output_type": "stream",
     "text": [
      "<function aif at 0x10deecd08>\n"
     ]
    }
   ],
   "source": [
    "macro aif(test, true_expr, false_expr):\n",
    "    quasi_quote:\n",
    "        it = unquote(test)\n",
    "        if it:\n",
    "            unquote(true_expr)\n",
    "        else:\n",
    "            unquote(false_expr)"
   ]
  },
  {
   "cell_type": "code",
   "execution_count": 16,
   "metadata": {
    "collapsed": false
   },
   "outputs": [
    {
     "name": "stdout",
     "output_type": "stream",
     "text": [
      "empty\n"
     ]
    }
   ],
   "source": [
    "aif([], first(it), \"empty\")"
   ]
  },
  {
   "cell_type": "code",
   "execution_count": 17,
   "metadata": {
    "collapsed": false
   },
   "outputs": [
    {
     "name": "stdout",
     "output_type": "stream",
     "text": [
      "10\n"
     ]
    }
   ],
   "source": [
    "aif([10, 20], first(it), \"empty\")"
   ]
  },
  {
   "cell_type": "markdown",
   "metadata": {},
   "source": [
    "## Requirements\n",
    "- CPython >= 3.2 or PyPy >= 3.2.1\n",
    "- rply >= 0.7.2\n",
    "- pyrsistent >= 0.6.3\n",
    "- pathlib >= 1.0.1\n",
    "- eventlet >= 0.15.2\n",
    "\n",
    "## Installation\n",
    "```sh\n",
    "$ pip3 install mochi\n",
    "```\n",
    "\n",
    "\n",
    "## Usage\n",
    "\n",
    "### REPL\n",
    "```sh\n",
    "$ mochi\n",
    ">>>\n",
    "```\n",
    "\n",
    "### loading and running a file\n",
    "```sh\n",
    "$ cat kinako.mochi\n",
    "print('kinako')\n",
    "$ mochi kinako.mochi\n",
    "kinako\n",
    "$\n",
    "```\n",
    "\n",
    "### byte compilation\n",
    "```sh\n",
    "$ mochi -c kinako.mochi > kinako.mochic\n",
    "```\n",
    "\n",
    "### running a byte-compiled file\n",
    "```sh\n",
    "$ mochi -e kinako.mochic\n",
    "kinako\n",
    "$\n",
    "```\n",
    "\n",
    "## Examples for each feature\n",
    "\n",
    "### Persistent data structures"
   ]
  },
  {
   "cell_type": "code",
   "execution_count": 18,
   "metadata": {
    "collapsed": false
   },
   "outputs": [
    {
     "name": "stdout",
     "output_type": "stream",
     "text": [
      "pvector([1, 2, 3])\n"
     ]
    }
   ],
   "source": [
    "[1, 2, 3]"
   ]
  },
  {
   "cell_type": "code",
   "execution_count": 19,
   "metadata": {
    "collapsed": false
   },
   "outputs": [
    {
     "name": "stdout",
     "output_type": "stream",
     "text": [
      "pvector([1, 2, 3])\n"
     ]
    }
   ],
   "source": [
    "v(1, 2, 3)"
   ]
  },
  {
   "cell_type": "code",
   "execution_count": 20,
   "metadata": {
    "collapsed": false
   },
   "outputs": [
    {
     "name": "stdout",
     "output_type": "stream",
     "text": [
      "pvector([1, 2, 3])\n",
      "pvector([8, 2, 3])\n"
     ]
    }
   ],
   "source": [
    "vec = [1, 2, 3]\n",
    "vec2 = vec.set(0, 8)"
   ]
  },
  {
   "cell_type": "code",
   "execution_count": 21,
   "metadata": {
    "collapsed": false
   },
   "outputs": [
    {
     "name": "stdout",
     "output_type": "stream",
     "text": [
      "pvector([1, 2, 3])\n"
     ]
    }
   ],
   "source": [
    "vec"
   ]
  },
  {
   "cell_type": "code",
   "execution_count": 22,
   "metadata": {
    "collapsed": false
   },
   "outputs": [
    {
     "name": "stdout",
     "output_type": "stream",
     "text": [
      "3\n",
      "1\n",
      "2\n",
      "3\n",
      "1\n",
      "pvector([1, 2])\n",
      "pmap({'x': 100, 'y': 200})\n"
     ]
    }
   ],
   "source": [
    "[x, y, z] = vec\n",
    "x # => 1\n",
    "y # => 2\n",
    "z # => 3\n",
    "\n",
    "get(vec, 0) # => 1\n",
    "get(vec, 0, 2) # => [1, 2]\n",
    "\n",
    "{'x': 100, 'y': 200}"
   ]
  },
  {
   "cell_type": "code",
   "execution_count": 23,
   "metadata": {
    "collapsed": false
   },
   "outputs": [
    {
     "name": "stdout",
     "output_type": "stream",
     "text": [
      "pmap({'x': 100, 'y': 200})\n",
      "100\n",
      "100\n",
      "pmap({'x': 10000, 'y': 200})\n"
     ]
    }
   ],
   "source": [
    "ma = {'x': 100, 'y': 200}\n",
    "ma.get('x') # => 100\n",
    "ma.x # => 100\n",
    "ma2 = ma.set('x', 10000)"
   ]
  },
  {
   "cell_type": "code",
   "execution_count": 25,
   "metadata": {
    "collapsed": false
   },
   "outputs": [
    {
     "name": "stdout",
     "output_type": "stream",
     "text": [
      "pmap({'x': 100, 'y': 200})\n",
      "200\n",
      "pmap({'x': 100, 'y': 200})\n"
     ]
    }
   ],
   "source": [
    "ma # => pmap({'y': 200, 'x': 100})\n",
    "get(ma, 'y') # => 200\n",
    "\n",
    "m(x=100, y=200)"
   ]
  },
  {
   "cell_type": "code",
   "execution_count": 26,
   "metadata": {
    "collapsed": false
   },
   "outputs": [
    {
     "name": "stdout",
     "output_type": "stream",
     "text": [
      "pset([1, 2, 3])\n"
     ]
    }
   ],
   "source": [
    "s(1, 2, 3)"
   ]
  },
  {
   "cell_type": "code",
   "execution_count": 27,
   "metadata": {
    "collapsed": false
   },
   "outputs": [
    {
     "name": "stdout",
     "output_type": "stream",
     "text": [
      "pbag([1, 2, 3])\n"
     ]
    }
   ],
   "source": [
    "b(1, 2, 3)"
   ]
  },
  {
   "cell_type": "markdown",
   "metadata": {},
   "source": [
    "### Function definitions"
   ]
  },
  {
   "cell_type": "code",
   "execution_count": 29,
   "metadata": {
    "collapsed": false
   },
   "outputs": [
    {
     "name": "stdout",
     "output_type": "stream",
     "text": [
      "<function hoge at 0x10deec840>\n"
     ]
    }
   ],
   "source": [
    "def hoge(x):\n",
    "    hoge + str(x)"
   ]
  },
  {
   "cell_type": "code",
   "execution_count": 30,
   "metadata": {
    "collapsed": false
   },
   "outputs": [
    {
     "name": "stdout",
     "output_type": "stream",
     "text": []
    },
    {
     "name": "stderr",
     "output_type": "stream",
     "text": [
      "  File \"/Users/bussonniermatthias/dev/mochi/mochi/mochi.py\", line 3026, in eval_tokens\n",
      "    exec(code, global_env)\n",
      "  File \"<string>\", line 1, in <module>\n",
      "  File \"<string>\", line 2, in hoge\n",
      "*** ERROR: unsupported operand type(s) for +: 'function' and 'str'\n"
     ]
    }
   ],
   "source": [
    "hoge(3)"
   ]
  },
  {
   "cell_type": "markdown",
   "metadata": {},
   "source": [
    "### Pattern matching"
   ]
  },
  {
   "cell_type": "code",
   "execution_count": 31,
   "metadata": {
    "collapsed": false
   },
   "outputs": [
    {
     "name": "stdout",
     "output_type": "stream",
     "text": [
      "pvector([1, 2, 3])\n",
      "3\n"
     ]
    }
   ],
   "source": [
    "lis = [1, 2, 3]\n",
    "\n",
    "match lis:\n",
    "    [1, 2, x]: x\n",
    "    _: None"
   ]
  },
  {
   "cell_type": "code",
   "execution_count": 32,
   "metadata": {
    "collapsed": false
   },
   "outputs": [
    {
     "name": "stdout",
     "output_type": "stream",
     "text": [
      "pvector([2, 3])\n"
     ]
    }
   ],
   "source": [
    "match lis:\n",
    "    [1, &rest]: rest\n",
    "    _: None"
   ]
  },
  {
   "cell_type": "code",
   "execution_count": 33,
   "metadata": {
    "collapsed": false
   },
   "outputs": [
    {
     "name": "stdout",
     "output_type": "stream",
     "text": [
      "pmap({'foo': 'bar'})\n",
      "bar\n"
     ]
    }
   ],
   "source": [
    "foo_map = {'foo' : 'bar'}\n",
    "\n",
    "match foo_map:\n",
    "    {'foo' : value}: value\n",
    "    _: None"
   ]
  },
  {
   "cell_type": "code",
   "execution_count": 34,
   "metadata": {
    "collapsed": false
   },
   "outputs": [
    {
     "name": "stdout",
     "output_type": "stream",
     "text": [
      "int\n"
     ]
    }
   ],
   "source": [
    "match 10:\n",
    "    int(x): 'int'\n",
    "    float(x): 'float'\n",
    "    str(x): 'str'\n",
    "    bool(x): 'bool'\n",
    "    _: 'other'"
   ]
  },
  {
   "cell_type": "code",
   "execution_count": 35,
   "metadata": {
    "collapsed": false
   },
   "outputs": [
    {
     "name": "stdout",
     "output_type": "stream",
     "text": [
      "int\n"
     ]
    }
   ],
   "source": [
    "match [1, 2, 3]:\n",
    "    [1, str(x), 3]: 'str'\n",
    "    [1, int(x), 3]: 'int'\n",
    "    _: 'other'"
   ]
  },
  {
   "cell_type": "markdown",
   "metadata": {},
   "source": [
    "### Records"
   ]
  },
  {
   "cell_type": "code",
   "execution_count": 36,
   "metadata": {
    "collapsed": false
   },
   "outputs": [
    {
     "name": "stdout",
     "output_type": "stream",
     "text": [
      "<class '__main__.Mochi'>\n",
      "<class '__main__.AnkoMochi'>\n",
      "<class '__main__.KinakoMochi'>\n",
      "AnkoMochi(anko=3)\n",
      "True\n"
     ]
    }
   ],
   "source": [
    "record Mochi\n",
    "record AnkoMochi(anko) < Mochi\n",
    "record KinakoMochi(kinako) < Mochi\n",
    "\n",
    "anko_mochi = AnkoMochi(anko=3)\n",
    "\n",
    "isinstance(anko_mochi, Mochi)"
   ]
  },
  {
   "cell_type": "code",
   "execution_count": 37,
   "metadata": {
    "collapsed": false
   },
   "outputs": [
    {
     "name": "stdout",
     "output_type": "stream",
     "text": [
      "True\n"
     ]
    }
   ],
   "source": [
    "isinstance(anko_mochi, AnkoMochi)"
   ]
  },
  {
   "cell_type": "code",
   "execution_count": 38,
   "metadata": {
    "collapsed": false
   },
   "outputs": [
    {
     "name": "stdout",
     "output_type": "stream",
     "text": [
      "False\n"
     ]
    }
   ],
   "source": [
    "isinstance(anko_mochi, KinakoMochi)"
   ]
  },
  {
   "cell_type": "code",
   "execution_count": 39,
   "metadata": {
    "collapsed": false
   },
   "outputs": [
    {
     "name": "stdout",
     "output_type": "stream",
     "text": [
      "anko anko anko mochi\n"
     ]
    }
   ],
   "source": [
    "match anko_mochi:\n",
    "    KinakoMochi(kinako): 'kinako ' * kinako + ' mochi'\n",
    "    AnkoMochi(anko): 'anko ' * anko + 'mochi'\n",
    "    Mochi(_): 'mochi'"
   ]
  },
  {
   "cell_type": "code",
   "execution_count": 40,
   "metadata": {
    "collapsed": false
   },
   "outputs": [
    {
     "name": "stdout",
     "output_type": "stream",
     "text": [
      "<class '__main__.Person'>\n",
      "Person(name='foo', age='32')\n",
      "foo: 32\n",
      "None\n"
     ]
    }
   ],
   "source": [
    "record Person(name, age):\n",
    "    def show(self):\n",
    "        print(self.name + ': ' + self.age)\n",
    "\n",
    "foo = Person('foo', '32')\n",
    "foo.show()"
   ]
  },
  {
   "cell_type": "markdown",
   "metadata": {},
   "source": [
    "### Bindings"
   ]
  },
  {
   "cell_type": "code",
   "execution_count": 42,
   "metadata": {
    "collapsed": false
   },
   "outputs": [
    {
     "name": "stdout",
     "output_type": "stream",
     "text": [
      "3000\n"
     ]
    }
   ],
   "source": [
    "x = 3000"
   ]
  },
  {
   "cell_type": "code",
   "execution_count": 43,
   "metadata": {
    "collapsed": false
   },
   "outputs": [
    {
     "name": "stdout",
     "output_type": "stream",
     "text": [
      "2\n",
      "1\n"
     ]
    }
   ],
   "source": [
    "[a, b] = [1, 2]\n",
    "a"
   ]
  },
  {
   "cell_type": "code",
   "execution_count": 44,
   "metadata": {
    "collapsed": false
   },
   "outputs": [
    {
     "name": "stdout",
     "output_type": "stream",
     "text": [
      "2\n"
     ]
    }
   ],
   "source": [
    "b"
   ]
  },
  {
   "cell_type": "code",
   "execution_count": 45,
   "metadata": {
    "collapsed": false
   },
   "outputs": [
    {
     "name": "stdout",
     "output_type": "stream",
     "text": [
      "pvector([2, 3])\n",
      "1\n"
     ]
    }
   ],
   "source": [
    "[c, &d] = [1, 2, 3]\n",
    "c"
   ]
  },
  {
   "cell_type": "code",
   "execution_count": 46,
   "metadata": {
    "collapsed": false
   },
   "outputs": [
    {
     "name": "stdout",
     "output_type": "stream",
     "text": [
      "pvector([2, 3])\n"
     ]
    }
   ],
   "source": [
    "d"
   ]
  },
  {
   "cell_type": "markdown",
   "metadata": {},
   "source": [
    "### Data types, like algebraic data types"
   ]
  },
  {
   "cell_type": "code",
   "execution_count": 41,
   "metadata": {
    "collapsed": false
   },
   "outputs": [
    {
     "name": "stdout",
     "output_type": "stream",
     "text": [
      "<class '__main__.Point3D'>\n",
      "Point2D(x=1, y=2)\n"
     ]
    }
   ],
   "source": [
    "data Point:\n",
    "    Point2D(x, y)\n",
    "    Point3D(x, y, z)\n",
    "\n",
    "# The meaning of the above is the same as the meaning of the following.\n",
    "# record Point\n",
    "# record Point2D(x, y) < Point\n",
    "# record Point3D(x, y, z) < Point\n",
    "\n",
    "p1 = Point2D(x=1, y=2)"
   ]
  },
  {
   "cell_type": "code",
   "execution_count": null,
   "metadata": {
    "collapsed": true
   },
   "outputs": [],
   "source": [
    "p2 = Point2D(3, 4)"
   ]
  },
  {
   "cell_type": "code",
   "execution_count": 47,
   "metadata": {
    "collapsed": false
   },
   "outputs": [
    {
     "name": "stdout",
     "output_type": "stream",
     "text": [
      "1\n"
     ]
    }
   ],
   "source": [
    "p1.x"
   ]
  },
  {
   "cell_type": "markdown",
   "metadata": {},
   "source": [
    "### Pattern-matching function definitions"
   ]
  },
  {
   "cell_type": "code",
   "execution_count": 48,
   "metadata": {
    "collapsed": false
   },
   "outputs": [
    {
     "name": "stdout",
     "output_type": "stream",
     "text": [
      "<class '__main__.Point3D'>\n",
      "<function offset at 0x10dff8840>\n",
      "Point2D(x=4, y=6)\n"
     ]
    }
   ],
   "source": [
    "data Point:\n",
    "    Point2D(x, y)\n",
    "    Point3D(x, y, z)\n",
    "\n",
    "def offset:\n",
    "    Point2D(x1, y1), Point2D(x2, y2):\n",
    "        Point2D(x1 + x2, y1 + y2)\n",
    "    Point3D(x1, y1, z1), Point3D(x2, y2, z2):\n",
    "        Point3D(x1 + x2, y1 + y2, z1 + z2)\n",
    "    _: None\n",
    "\n",
    "offset(Point2D(1, 2), Point2D(3, 4))"
   ]
  },
  {
   "cell_type": "code",
   "execution_count": 49,
   "metadata": {
    "collapsed": false
   },
   "outputs": [
    {
     "name": "stdout",
     "output_type": "stream",
     "text": [
      "Point3D(x=5, y=7, z=9)\n"
     ]
    }
   ],
   "source": [
    "offset(Point3D(1, 2, 3), Point3D(4, 5, 6))"
   ]
  },
  {
   "cell_type": "code",
   "execution_count": 50,
   "metadata": {
    "collapsed": false
   },
   "outputs": [
    {
     "name": "stdout",
     "output_type": "stream",
     "text": [
      "<function show at 0x10e1951e0>\n",
      "float 1.0 msg\n",
      "None\n"
     ]
    }
   ],
   "source": [
    "def show:\n",
    "    int(x), message: print('int', x, message)\n",
    "    float(x), message: print('float', x, message)\n",
    "    _: None\n",
    "\n",
    "show(1.0, 'msg')"
   ]
  },
  {
   "cell_type": "markdown",
   "metadata": {},
   "source": [
    "### Anonymous function"
   ]
  },
  {
   "cell_type": "markdown",
   "metadata": {},
   "source": [
    "# Arrow expression."
   ]
  },
  {
   "cell_type": "code",
   "execution_count": 53,
   "metadata": {
    "collapsed": false
   },
   "outputs": [
    {
     "name": "stdout",
     "output_type": "stream",
     "text": [
      "<function _gs236 at 0x10d16abf8>\n",
      "3\n"
     ]
    }
   ],
   "source": [
    "add = (x, y) -> x + y\n",
    "add(1, 2)"
   ]
  },
  {
   "cell_type": "code",
   "execution_count": 54,
   "metadata": {
    "collapsed": false
   },
   "outputs": [
    {
     "name": "stdout",
     "output_type": "stream",
     "text": [
      "<function _gs237 at 0x10d16ad90>\n",
      "3\n"
     ]
    }
   ],
   "source": [
    "add = -> $1 + $2\n",
    "add(1, 2)"
   ]
  },
  {
   "cell_type": "code",
   "execution_count": 55,
   "metadata": {
    "collapsed": false
   },
   "outputs": [
    {
     "name": "stdout",
     "output_type": "stream",
     "text": [
      "<function _gs238 at 0x10d16aae8>\n",
      "1\n"
     ]
    }
   ],
   "source": [
    "foo = (x, y) ->\n",
    "    if x == 0:\n",
    "        y\n",
    "    else:\n",
    "        x\n",
    "\n",
    "foo(1, 2)"
   ]
  },
  {
   "cell_type": "code",
   "execution_count": 56,
   "metadata": {
    "collapsed": false
   },
   "outputs": [
    {
     "name": "stdout",
     "output_type": "stream",
     "text": [
      "2\n"
     ]
    }
   ],
   "source": [
    "foo(0, 2)"
   ]
  },
  {
   "cell_type": "code",
   "execution_count": 57,
   "metadata": {
    "collapsed": false
   },
   "outputs": [
    {
     "name": "stdout",
     "output_type": "stream",
     "text": [
      "pvector([2, 4, 6])\n"
     ]
    }
   ],
   "source": [
    "pvector(map(-> $1 * 2, [1, 2, 3]))"
   ]
  },
  {
   "cell_type": "markdown",
   "metadata": {},
   "source": [
    "### Pipeline operator "
   ]
  },
  {
   "cell_type": "code",
   "execution_count": 58,
   "metadata": {
    "collapsed": false
   },
   "outputs": [
    {
     "name": "stdout",
     "output_type": "stream",
     "text": [
      "<function _gs241 at 0x10d16ac80>\n",
      "24\n"
     ]
    }
   ],
   "source": [
    "add = -> $1 + $2\n",
    "2 |> add(10) |> add(12)"
   ]
  },
  {
   "cell_type": "code",
   "execution_count": 59,
   "metadata": {
    "collapsed": false
   },
   "outputs": [
    {
     "name": "stdout",
     "output_type": "stream",
     "text": [
      "None\n"
     ]
    }
   ],
   "source": [
    "None |>? add(10) |>? add(12)"
   ]
  },
  {
   "cell_type": "markdown",
   "metadata": {},
   "source": [
    "### Lazy sequences"
   ]
  },
  {
   "cell_type": "code",
   "execution_count": 60,
   "metadata": {
    "collapsed": false
   },
   "outputs": [
    {
     "name": "stdout",
     "output_type": "stream",
     "text": [
      "<function fizzbuzz at 0x10dff86a8>\n",
      "<map object at 0x10e166c50>\n",
      "pvector([1, 2, 'fizz', 4, 'buzz', 'fizz', 7, 8, 'fizz', 'buzz', 11, 'fizz', 13, 14, 'fizzbuzz', 16, 17, 'fizz', 19, 'buzz', 'fizz', 22, 23, 'fizz', 'buzz', 26, 'fizz', 28, 29, 'fizzbuzz'])\n"
     ]
    }
   ],
   "source": [
    "def fizzbuzz(n):\n",
    "    match [n % 3, n % 5]:\n",
    "        [0, 0]: \"fizzbuzz\"\n",
    "        [0, _]: \"fizz\"\n",
    "        [_, 0]: \"buzz\"\n",
    "        _: n\n",
    "\n",
    "\n",
    "result = range(1, 31) |> map(fizzbuzz)\n",
    "pvector(result)"
   ]
  },
  {
   "cell_type": "code",
   "execution_count": 61,
   "metadata": {
    "collapsed": false
   },
   "outputs": [
    {
     "name": "stdout",
     "output_type": "stream",
     "text": [
      "pvector([])\n"
     ]
    }
   ],
   "source": [
    "pvector(result)"
   ]
  },
  {
   "cell_type": "code",
   "execution_count": 62,
   "metadata": {
    "collapsed": false
   },
   "outputs": [
    {
     "name": "stdout",
     "output_type": "stream",
     "text": [
      "pvector([])\n"
     ]
    }
   ],
   "source": [
    "pvector(result)"
   ]
  },
  {
   "cell_type": "code",
   "execution_count": 63,
   "metadata": {
    "collapsed": false
   },
   "outputs": [
    {
     "name": "stdout",
     "output_type": "stream",
     "text": [
      "lazyseq(<map object at 0x10e083278>)\n",
      "pvector([1, 2, 'fizz', 4, 'buzz', 'fizz', 7, 8, 'fizz', 'buzz', 11, 'fizz', 13, 14, 'fizzbuzz', 16, 17, 'fizz', 19, 'buzz', 'fizz', 22, 23, 'fizz', 'buzz', 26, 'fizz', 28, 29, 'fizzbuzz'])\n"
     ]
    }
   ],
   "source": [
    "lazy_result = range(1, 31) |> map(fizzbuzz) |> lazyseq()\n",
    "pvector(lazy_result)"
   ]
  },
  {
   "cell_type": "code",
   "execution_count": 64,
   "metadata": {
    "collapsed": false
   },
   "outputs": [
    {
     "name": "stdout",
     "output_type": "stream",
     "text": [
      "pvector([1, 2, 'fizz', 4, 'buzz', 'fizz', 7, 8, 'fizz', 'buzz', 11, 'fizz', 13, 14, 'fizzbuzz', 16, 17, 'fizz', 19, 'buzz', 'fizz', 22, 23, 'fizz', 'buzz', 26, 'fizz', 28, 29, 'fizzbuzz'])\n"
     ]
    }
   ],
   "source": [
    "pvector(lazy_result)"
   ]
  },
  {
   "cell_type": "code",
   "execution_count": 65,
   "metadata": {
    "collapsed": false
   },
   "outputs": [
    {
     "name": "stdout",
     "output_type": "stream",
     "text": [
      "pvector([1, 2, 'fizz', 4, 'buzz', 'fizz', 7, 8, 'fizz', 'buzz', 11, 'fizz', 13, 14, 'fizzbuzz', 16, 17, 'fizz', 19, 'buzz', 'fizz', 22, 23, 'fizz', 'buzz', 26, 'fizz', 28, 29, 'fizzbuzz'])\n"
     ]
    }
   ],
   "source": [
    "pvector(lazy_result)"
   ]
  },
  {
   "cell_type": "markdown",
   "metadata": {},
   "source": [
    "### Macros"
   ]
  },
  {
   "cell_type": "code",
   "execution_count": 66,
   "metadata": {
    "collapsed": false
   },
   "outputs": [
    {
     "name": "stdout",
     "output_type": "stream",
     "text": [
      "<function rest_if_first_is_true at 0x10e195378>\n",
      "pvector([1, 2, 3])\n"
     ]
    }
   ],
   "source": [
    "macro rest_if_first_is_true(first, &args):\n",
    "     match first:\n",
    "         quote(True): quasi_quote(v(unquote_splicing(args)))\n",
    "         _: quote(False)\n",
    "\n",
    "rest_if_first_is_true(True, 1, 2, 3)"
   ]
  },
  {
   "cell_type": "code",
   "execution_count": 67,
   "metadata": {
    "collapsed": false
   },
   "outputs": [
    {
     "name": "stdout",
     "output_type": "stream",
     "text": [
      "False\n"
     ]
    }
   ],
   "source": [
    "rest_if_first_is_true(\"foo\", 1, 2, 3)"
   ]
  },
  {
   "cell_type": "code",
   "execution_count": null,
   "metadata": {
    "collapsed": true
   },
   "outputs": [],
   "source": [
    "macro pipeline(&args):\n",
    "    [Symbol('|>')] + args\n",
    "\n",
    "pipeline([1, 2, 3],\n",
    "         map(-> $1 * 2),\n",
    "         filter(-> $1 != 2),\n",
    "         pvector())\n",
    "# => pvector([4, 6])\n",
    "```\n",
    "\n",
    "### Including a file at compile time\n",
    "```sh\n",
    "$ cat anko.mochi\n",
    "x = 10000\n",
    "y = 20000\n",
    "```\n",
    "\n",
    "```python\n",
    "require 'anko.mochi'\n",
    "x\n",
    "# => 10000\n",
    "\n",
    "x = 30000\n",
    "\n",
    "require 'anko.mochi' # include once at compile time\n",
    "x\n",
    "# => 30000\n",
    "```\n",
    "\n",
    "### Module\n",
    "```python\n",
    "module Math:\n",
    "    export add, sub\n",
    "    \n",
    "    def add(x, y):\n",
    "        x + y\n",
    "    \n",
    "    def sub(x, y):\n",
    "        x - y\n",
    "\n",
    "Math.add(1, 2)\n",
    "# => 3\n",
    "```\n",
    "\n",
    "```sh\n",
    "$ cat foobar.mochi\n",
    "foo = 'foo'\n",
    "bar = 'bar'\n",
    "```\n",
    "\n",
    "```python\n",
    "require 'foobar.mochi'\n",
    "[foo, bar]\n",
    "# => pvector(['foo', 'bar'])\n",
    "\n",
    "foo = 'foofoofoo'\n",
    "\n",
    "module X:\n",
    "    export foobar\n",
    "    require 'foobar.mochi'\n",
    "    def foobar:\n",
    "        [foo, bar]\n",
    "\n",
    "X.foobar()\n",
    "# => pvector(['foo', 'bar'])\n",
    "\n",
    "[foo, bar]\n",
    "# => pvector(['foofoofoo', 'bar'])\n",
    "```\n",
    "\n",
    "## TODO\n",
    "- Documentation\n",
    "- Improvement of parsing\n",
    "- Support class definition\n",
    "\n",
    "## License\n",
    "MIT License\n",
    "\n",
    "## Author\n",
    "[i2y] (https://github.com/i2y)"
   ]
  }
 ],
 "metadata": {
  "kernelspec": {
   "display_name": "Mochi",
   "name": "mochi"
  },
  "language_info": {
   "mimetype": "text/x-python",
   "name": "mochi"
  },
  "signature": "sha256:209cce222e8314e982835f4f0378ae11ea8c6fb9829876857bdb80edce6f43e5"
 },
 "nbformat": 4,
 "nbformat_minor": 0
}